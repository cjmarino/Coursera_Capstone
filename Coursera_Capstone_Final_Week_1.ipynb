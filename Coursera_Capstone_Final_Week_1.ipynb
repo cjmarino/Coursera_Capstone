{
    "cells": [
        {
            "cell_type": "markdown",
            "metadata": {
                "collapsed": true
            },
            "source": "<b>Week 1</b><br>\nFor this week, you will required to submit the following:\n\n1. A description of the problem and a discussion of the background. (15 marks)\n2. A description of the data and how it will be used to solve the problem. (15 marks)"
        },
        {
            "cell_type": "markdown",
            "metadata": {},
            "source": "<i>Question 1</i><br>\n1. A description of the problem and a discussion of the background. (15 marks)"
        },
        {
            "cell_type": "markdown",
            "metadata": {},
            "source": "For this project, I have chosen to think entrepreneurially and utilize my dataset to solve a rather simple, age old question - where, exactly, should I open a bar in Akron, OH to give myself the best chance of success? I want to know which zip code likely has the best chance of success for a bar type business.<p>\n\nIn this, there are several considerations - do they already have an abundance of bars? What other things are popular in the area? If an area has no bars but seems like a culturally 'dry' area, I will want to avoid those as well."
        },
        {
            "cell_type": "markdown",
            "metadata": {},
            "source": "<i>Question 2</i><br>\n2. A description of the data and how it will be used to solve the problem. (15 marks)"
        },
        {
            "cell_type": "markdown",
            "metadata": {},
            "source": "For this project, I will be examining the Akron, OH location by zip codes. Since there was not a location I could find to properly scrape these zip codes from a site, manual input was required in the form a csv. This was taken from https://www.akronohio.gov/cms/AkronZipCodes2013/akron_area_zip_codes.pdf. Once those zip codes were entered, the coordinates was cross coordinated via google; that completed csv was then uploaded to my GitHub account, and can be found here: https://github.com/cjmarino/Coursera_Capstone/blob/master/Akron_Ohio_Zip_Codes.csv. "
        },
        {
            "cell_type": "code",
            "execution_count": null,
            "metadata": {},
            "outputs": [],
            "source": ""
        }
    ],
    "metadata": {
        "kernelspec": {
            "display_name": "Python 3.7",
            "language": "python",
            "name": "python3"
        },
        "language_info": {
            "codemirror_mode": {
                "name": "ipython",
                "version": 3
            },
            "file_extension": ".py",
            "mimetype": "text/x-python",
            "name": "python",
            "nbconvert_exporter": "python",
            "pygments_lexer": "ipython3",
            "version": "3.7.9"
        }
    },
    "nbformat": 4,
    "nbformat_minor": 1
}